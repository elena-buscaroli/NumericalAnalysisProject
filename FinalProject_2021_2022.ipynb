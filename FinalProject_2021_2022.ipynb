{
  "cells": [
    {
      "cell_type": "code",
      "execution_count": 35,
      "id": "3fe94688",
      "metadata": {
        "id": "3fe94688"
      },
      "outputs": [],
      "source": [
        "%matplotlib inline\n",
        "import numpy as np\n",
        "import matplotlib.pyplot as plt\n",
        "import pandas as pd"
      ]
    },
    {
      "cell_type": "code",
      "execution_count": null,
      "id": "2yUETvkozE7b",
      "metadata": {
        "id": "2yUETvkozE7b"
      },
      "outputs": [],
      "source": []
    },
    {
      "cell_type": "markdown",
      "id": "8184faab",
      "metadata": {
        "id": "8184faab"
      },
      "source": [
        "Consider the following one-dimensional PDE:\n",
        "$$\n",
        "-u_{xx}(x) = f(x)\\quad\\mathrm{ in }\\ \\Omega = (0, \\pi)\n",
        "$$\n",
        "$$\n",
        "u(x) = 0, \\quad\\mathrm{ on }\\ \\partial\\Omega = \\{0, \\pi\\}\n",
        "$$\n",
        "\n",
        "Given the following $4^{th}$ order finite difference approximation of the second order derivative:\n",
        "\n",
        "$$u_{xx}(x_i) = \\frac{-u_{i-2}+16u_{i-1}-30u_i+16u_{i+1}-u_{i+2}}{12h^2}$$\n",
        "\n",
        "Implement a function that given the domain interval, the forcing function, the number of discretization points, the boundary conditions, returns the matrix $A$ and the the right hand side $b$."
      ]
    },
    {
      "cell_type": "code",
      "execution_count": 46,
      "id": "1c562f13",
      "metadata": {
        "id": "1c562f13"
      },
      "outputs": [],
      "source": [
        "def finDif(omega, f, n, bc):\n",
        "    h = ( omega[1] - omega[0] ) / ( n-1 )  # define the step size\n",
        "\n",
        "    x = np.array([i*h for i in range(n)])  # define the discrete points in the interval\n",
        "    \n",
        "    b = np.array( f(x) )  # define the input function at the chosen points\n",
        "    b[0], b[n-1] = bc  # impose the input boundary conditions\n",
        "\n",
        "    A = ( np.diag([-1 for i in range(0,n-2)], -2) \\\n",
        "        + np.diag([16 for i in range(0,n-1)], -1) \\\n",
        "        + np.diag([-30 for i in range(0,n)]) \\\n",
        "        + np.diag([16 for i in range(0,n-1)], 1) \\\n",
        "        + np.diag([-1 for i in range(0,n-2)], 2) ) * ( - 1 / (12*h**2) )\n",
        "    return A, b"
      ]
    },
    {
      "cell_type": "markdown",
      "id": "c21bb21e",
      "metadata": {
        "id": "c21bb21e"
      },
      "source": [
        "Call the function using:"
      ]
    },
    {
      "cell_type": "code",
      "execution_count": 28,
      "id": "23af8831",
      "metadata": {
        "id": "23af8831"
      },
      "outputs": [],
      "source": [
        "omega = [0,np.pi]\n",
        "f = lambda x : np.sin(x)\n",
        "n=100\n",
        "bc = [0,0]\n",
        "A, b = finDif(omega, f, n, bc) "
      ]
    },
    {
      "cell_type": "markdown",
      "id": "4f8a7c6f",
      "metadata": {
        "id": "4f8a7c6f"
      },
      "source": [
        "Implement two functions that compute the LU and the Cholesky factorization of the system matrix $A$"
      ]
    },
    {
      "cell_type": "markdown",
      "id": "b19724c5",
      "metadata": {},
      "source": [
        "Using the Gauss method to perform the LU decomposition of a matrix A:\n",
        "\n",
        "$$ l_{i,k} = \\frac{ a_{i,k}^{(k)} } { a_{k,k}^{(k)} } $$\n",
        "\n",
        "$$ a_{i,j}^{(k+1)} = a_{i,j}^{(k)} - l_{i,k} * a_{k,j}^{(k)} $$"
      ]
    },
    {
      "cell_type": "code",
      "execution_count": 29,
      "id": "47468a37",
      "metadata": {
        "id": "47468a37"
      },
      "outputs": [],
      "source": [
        "def LU(A, pivot = False):\n",
        "    '''\n",
        "    If pivot = False -> Gauss method\n",
        "    '''\n",
        "    A = np.array(A, dtype=\"float64\")\n",
        "    n = A.shape[0]\n",
        "    L = np.zeros((n,n))\n",
        "\n",
        "    P = np.identity(n) if pivot else None\n",
        "\n",
        "    for k in range(n-1):\n",
        "        if pivot:  # pivoting done only if asked by user\n",
        "            assert( A[k, k] != 0 ), \"Division by zero\"\n",
        "            piv = k + abs(A[k:, k]).argmax()   # looking at best pivot\n",
        "            \n",
        "            # exchange rows and columns\n",
        "            A[[k, piv]] = A[[piv, k]]\n",
        "            L[[k, piv]] = L[[piv, k]]\n",
        "\n",
        "            P_k= np.identity(n)  # inizialization new permutation matrix in step k\n",
        "            P_k[[k, piv]] = P_k[[piv, k]]  # exchanging rows and columns\n",
        "            P = np.dot(P, P_k)  # updating total permutation matrix\n",
        "        \n",
        "        assert( A[k, k] != 0 ), \"Division by zero\"\n",
        "        L[k+1:, k] = A[k+1:, k] / A[k, k]\n",
        "        A[k+1:] -= L[k+1:, k][:, None] * A[k, :]\n",
        "\n",
        "    np.fill_diagonal(L, 1)\n",
        "\n",
        "    if pivot:\n",
        "        return L, A, P\n",
        "\n",
        "    return L, A\n",
        "\n",
        "L, U = LU(A)"
      ]
    },
    {
      "cell_type": "code",
      "execution_count": 30,
      "id": "193ebfed",
      "metadata": {
        "id": "193ebfed"
      },
      "outputs": [],
      "source": [
        "def cholesky(A):\n",
        "    A = np.array(A, dtype=\"float64\")\n",
        "    L = np.zeros_like(A)\n",
        "    \n",
        "    L[0, 0] = np.sqrt(A[0, 0])\n",
        "    \n",
        "    for i in range(1, A.shape[0]):\n",
        "        for j in range(i):\n",
        "            L[j, i] = ( A[i, j] - np.dot( L[:j, i], L[:j, j] ) ) / L[j, j]\n",
        "        L[i, i] = np.sqrt( A[i, i] - np.dot( L[:i, i], L[:i, i] ) )\n",
        "    \n",
        "    return L, L.transpose()\n",
        "\n",
        "HT, H = cholesky(A)"
      ]
    },
    {
      "cell_type": "markdown",
      "id": "41eb8436",
      "metadata": {
        "id": "41eb8436"
      },
      "source": [
        "Implement forward and backward substitution functions to exploit the developed factorization methods to solve the derived linear system of equations."
      ]
    },
    {
      "cell_type": "code",
      "execution_count": 31,
      "id": "019cf0df",
      "metadata": {
        "id": "019cf0df"
      },
      "outputs": [],
      "source": [
        "def L_solve(L, rhs):\n",
        "    assert L.shape[0] == L.shape[1], \"The input matrix is not square\"\n",
        "    \n",
        "    L = np.array(L, dtype=\"float64\")\n",
        "    rhs = np.array(rhs, dtype=\"float64\")\n",
        "    x = np.zeros_like(rhs, dtype=\"float64\")\n",
        "    \n",
        "    x[0] = rhs[0] / L[0, 0]\n",
        "    for i in range(1, L.shape[0]):\n",
        "        assert L[i, i] != 0, \"Invalid operation: diagonal element in L equal to 0\"\n",
        "        x[i] = ( rhs[i] - np.dot(L[i, :i], x[:i] ) ) / L[i, i]\n",
        "\n",
        "    return x"
      ]
    },
    {
      "cell_type": "code",
      "execution_count": 32,
      "id": "26ce17c4",
      "metadata": {
        "id": "26ce17c4"
      },
      "outputs": [],
      "source": [
        "def U_solve(U, rhs):\n",
        "    assert U.shape[0] == U.shape[1], \"The input matrix is not square\"\n",
        "    \n",
        "    U = np.array(U, dtype=\"float64\")\n",
        "    rhs = np.array(rhs, dtype=\"float64\")\n",
        "    x = np.zeros_like(rhs, dtype=\"float64\")\n",
        "    \n",
        "    x[U.shape[0] - 1] = rhs[U.shape[0] - 1] / U[U.shape[0] - 1, U.shape[0] - 1]\n",
        "    for i in range(U.shape[0]-1 , -1, -1):\n",
        "        assert U[i, i] != 0, \"Invalid operation: diagonal element in U equal to 0\"\n",
        "        x[i] = ( rhs[i] - np.dot(U[i, i+1:], x[i+1:]) ) / U[i, i]\n",
        "    return x"
      ]
    },
    {
      "cell_type": "markdown",
      "id": "08ac9ba1",
      "metadata": {
        "id": "08ac9ba1"
      },
      "source": [
        "Solve the derived linear system using the implemented functions and plot the computed solution:"
      ]
    },
    {
      "cell_type": "code",
      "execution_count": 38,
      "id": "7c1de4f3",
      "metadata": {
        "id": "7c1de4f3"
      },
      "outputs": [],
      "source": [
        "def solve_system(A, b, pivot=False):\n",
        "    assert A.shape[0] == A.shape[1], \"Not square input matrix\"\n",
        "    \n",
        "    if pivot:\n",
        "        L, U, P = LU(A, pivot=pivot)\n",
        "    else:\n",
        "        L, U = LU(A)\n",
        "        P = np.identity(A.shape[0])\n",
        "\n",
        "    y = L_solve(L, np.matmul(b, P))\n",
        "    x = U_solve(U, y)\n",
        "    \n",
        "    return x"
      ]
    },
    {
      "cell_type": "markdown",
      "id": "62cdfe65",
      "metadata": {
        "id": "62cdfe65"
      },
      "source": [
        "Considering the new domain $\\Omega = (0,1)$ and the forcing term $f(x) = x(1-x)$ with B.C. $u(x) = 0$, on $\\partial \\Omega = {0,1}$ produce a plot and a table where you show the decay of the error w.r.t. the number of grid points.\n",
        "(The analytical solution for the above problems is $u_{an} = \\frac{x^4}{12} - \\frac{x^3}{6} + \\frac{x}{12}$)"
      ]
    },
    {
      "cell_type": "code",
      "execution_count": 34,
      "id": "26cc1e38",
      "metadata": {},
      "outputs": [],
      "source": [
        "def solve(omega, f, n, bc):\n",
        "    A, b = finDif(omega, f, n, bc)\n",
        "    f_solve = solve_system(A, b, pivot=True)\n",
        "    x = np.linspace(omega[0], omega[1], num=f_solve.shape[0]) # discretization points\n",
        "    return x, f_solve"
      ]
    },
    {
      "cell_type": "code",
      "execution_count": 44,
      "id": "91212afb",
      "metadata": {
        "id": "91212afb"
      },
      "outputs": [],
      "source": [
        "def plot_error(omega, f, bc, f_real):\n",
        "    N = np.arange(50, 1200, step=200)\n",
        "    er = np.zeros(N.shape[0])\n",
        "    i = 0\n",
        "\n",
        "    for n in N:\n",
        "        x, f_solve = solve(omega, f, n, bc)\n",
        "        er[i] = max( abs( f_solve - f_real(x) ) )\n",
        "        i += 1\n",
        "    \n",
        "    plt.plot(N, er, label = \"${\\\\Vert \\\\cdot \\\\Vert}_{\\\\infty}$\")\n",
        "    plt.xlabel(\"Iteration\", fontsize=15)\n",
        "    plt.ylabel(\"Error\", fontsize=15, rotation=0, labelpad=20)\n",
        "    plt.legend()\n",
        "    plt.yscale(\"log\")\n",
        "    plt.title(\"Error vs number of iteartions\", fontsize=18)\n",
        "    plt.grid()\n",
        "\n",
        "    return pd.DataFrame({\"Iteration\":N, \"Error\":er})\n"
      ]
    },
    {
      "cell_type": "code",
      "execution_count": 47,
      "id": "10b4ad2f",
      "metadata": {},
      "outputs": [
        {
          "data": {
            "text/html": [
              "<div>\n",
              "<style scoped>\n",
              "    .dataframe tbody tr th:only-of-type {\n",
              "        vertical-align: middle;\n",
              "    }\n",
              "\n",
              "    .dataframe tbody tr th {\n",
              "        vertical-align: top;\n",
              "    }\n",
              "\n",
              "    .dataframe thead th {\n",
              "        text-align: right;\n",
              "    }\n",
              "</style>\n",
              "<table border=\"1\" class=\"dataframe\">\n",
              "  <thead>\n",
              "    <tr style=\"text-align: right;\">\n",
              "      <th></th>\n",
              "      <th>Iteration</th>\n",
              "      <th>Error</th>\n",
              "    </tr>\n",
              "  </thead>\n",
              "  <tbody>\n",
              "    <tr>\n",
              "      <th>0</th>\n",
              "      <td>50</td>\n",
              "      <td>0.001578</td>\n",
              "    </tr>\n",
              "    <tr>\n",
              "      <th>1</th>\n",
              "      <td>250</td>\n",
              "      <td>0.000311</td>\n",
              "    </tr>\n",
              "    <tr>\n",
              "      <th>2</th>\n",
              "      <td>450</td>\n",
              "      <td>0.000172</td>\n",
              "    </tr>\n",
              "    <tr>\n",
              "      <th>3</th>\n",
              "      <td>650</td>\n",
              "      <td>0.000119</td>\n",
              "    </tr>\n",
              "    <tr>\n",
              "      <th>4</th>\n",
              "      <td>850</td>\n",
              "      <td>0.000091</td>\n",
              "    </tr>\n",
              "    <tr>\n",
              "      <th>5</th>\n",
              "      <td>1050</td>\n",
              "      <td>0.000074</td>\n",
              "    </tr>\n",
              "  </tbody>\n",
              "</table>\n",
              "</div>"
            ],
            "text/plain": [
              "   Iteration     Error\n",
              "0         50  0.001578\n",
              "1        250  0.000311\n",
              "2        450  0.000172\n",
              "3        650  0.000119\n",
              "4        850  0.000091\n",
              "5       1050  0.000074"
            ]
          },
          "execution_count": 47,
          "metadata": {},
          "output_type": "execute_result"
        },
        {
          "data": {
            "image/png": "[encoded data removed]",
            "text/plain": [
              "<Figure size 432x288 with 1 Axes>"
            ]
          },
          "metadata": {
            "needs_background": "light"
          },
          "output_type": "display_data"
        }
      ],
      "source": [
        "omega = [0,1]\n",
        "bc = [0,0]\n",
        "f = lambda x : x*(1-x)\n",
        "f_real = lambda x: np.power(x,4) / 12 - np.power(x,3) / 6 + x / 12\n",
        "error = plot_error(omega, f, bc, f_real)\n",
        "error"
      ]
    },
    {
      "cell_type": "markdown",
      "id": "c8d5002f",
      "metadata": {
        "id": "c8d5002f"
      },
      "source": [
        "Exploit the derived LU factorizations to compute the condition number of the system's matrix $A$ using the original problem formulation."
      ]
    },
    {
      "cell_type": "code",
      "execution_count": null,
      "id": "db60aab8",
      "metadata": {},
      "outputs": [],
      "source": [
        "def inverse(A):\n",
        "    A = np.array(A, dtype=\"float64\")\n",
        "    inv_A = np.zeros_like(A)\n",
        "    I = np.identity(A.shape[0])\n",
        "    L, U, P = LU(A, pivot=True)\n",
        "    \n",
        "    for k in range(A.shape[0]):\n",
        "        tmp = L_solve(L, np.matmul(I[:, k],P))\n",
        "        inv_A[:, k] = U_solve(U, tmp)\n",
        "    return inv_A"
      ]
    },
    {
      "cell_type": "code",
      "execution_count": null,
      "id": "c25fc1fe",
      "metadata": {
        "id": "c25fc1fe"
      },
      "outputs": [],
      "source": [
        "def condNumb(A):\n",
        "    A = np.array(A)\n",
        "    A_inv = inverse(A)\n",
        "    condNu = max( sum( abs(A), axis=1) ) * max( sum( abs(A_inv), axis=1) )\n",
        "    return condNu "
      ]
    },
    {
      "cell_type": "markdown",
      "id": "2728b49a",
      "metadata": {
        "id": "2728b49a"
      },
      "source": [
        "Implement a preconditioned Conjugant Gradient method to solve the original linear system of equations using an iterative method:"
      ]
    },
    {
      "cell_type": "code",
      "execution_count": null,
      "id": "62b83aee",
      "metadata": {
        "id": "62b83aee"
      },
      "outputs": [],
      "source": [
        "def conjugate_gradient(A, b, P, nmax=len(A), eps=1e-10):\n",
        "    pass #TODO"
      ]
    },
    {
      "cell_type": "markdown",
      "id": "8a4cfc02",
      "metadata": {
        "id": "8a4cfc02"
      },
      "source": [
        "Consider the following time dependent variation of the PDE starting from the orginal problem formulation:\n",
        "$$\n",
        "u'(t)-u_{xx} = \\alpha(t)f(x)\n",
        "$$\n",
        "\n",
        "for $t\\in [0,T]$, with $\\alpha(t) = \\cos(t)$ and $T = 6\\pi$\n",
        "\n",
        "Use the same finite difference scheme to derive the semi-discrete formulation and solve it using a forward Euler's method.\n",
        "\n",
        "Plot the time dependent solution solution at $x = \\pi/2$, $x=1$, \n",
        "$x=\\pi$\n"
      ]
    },
    {
      "cell_type": "code",
      "execution_count": null,
      "id": "3ffe0689",
      "metadata": {
        "id": "3ffe0689"
      },
      "outputs": [],
      "source": [
        "#TODO"
      ]
    },
    {
      "cell_type": "markdown",
      "id": "36936121",
      "metadata": {
        "id": "36936121"
      },
      "source": [
        "Given the original $Au = b$ system, implement an algorithm to compute the eigenvalues and eigenvectors of the matrix $A$. Exploit the computed LU factorization"
      ]
    },
    {
      "cell_type": "code",
      "execution_count": null,
      "id": "622aadf4",
      "metadata": {
        "id": "622aadf4"
      },
      "outputs": [],
      "source": [
        "#TODO"
      ]
    },
    {
      "cell_type": "markdown",
      "id": "85d5f64e",
      "metadata": {
        "id": "85d5f64e"
      },
      "source": [
        "Compute the inverse of the matrix A exploiting the derived LU factorization"
      ]
    },
    {
      "cell_type": "code",
      "execution_count": null,
      "id": "6ad7199f",
      "metadata": {
        "id": "6ad7199f"
      },
      "outputs": [],
      "source": [
        "#TODO"
      ]
    },
    {
      "cell_type": "markdown",
      "id": "cb22566e",
      "metadata": {
        "id": "cb22566e"
      },
      "source": [
        "Consider the following Cauchy problem\n",
        "$$\n",
        "\\begin{cases}\n",
        "y'= -ty^2 \\quad 0\\le t \\le 2\\\\\n",
        "y(0) = 1\n",
        "\\end{cases}\n",
        "$$\n",
        "Implement a Backward Euler's method in a suitable function and solve the resulting non-linear equation using a Newton's method."
      ]
    },
    {
      "cell_type": "code",
      "execution_count": null,
      "id": "3184e358",
      "metadata": {
        "id": "3184e358"
      },
      "outputs": [],
      "source": [
        "#TODO"
      ]
    }
  ],
  "metadata": {
    "colab": {
      "name": "FinalProject-2021-2022.ipynb",
      "provenance": []
    },
    "kernelspec": {
      "display_name": "Python 3.8.10 64-bit",
      "language": "python",
      "name": "python3"
    },
    "language_info": {
      "codemirror_mode": {
        "name": "ipython",
        "version": 3
      },
      "file_extension": ".py",
      "mimetype": "text/x-python",
      "name": "python",
      "nbconvert_exporter": "python",
      "pygments_lexer": "ipython3",
      "version": "3.8.10"
    },
    "vscode": {
      "interpreter": {
        "hash": "31f2aee4e71d21fbe5cf8b01ff0e069b9275f58929596ceb00d14d90e3e16cd6"
      }
    }
  },
  "nbformat": 4,
  "nbformat_minor": 5
}
