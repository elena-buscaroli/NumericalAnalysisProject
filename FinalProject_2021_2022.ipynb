{
  "cells": [
    {
      "cell_type": "code",
      "execution_count": 1,
      "id": "3fe94688",
      "metadata": {
        "id": "3fe94688"
      },
      "outputs": [],
      "source": [
        "%matplotlib inline\n",
        "import numpy as np\n",
        "import matplotlib.pyplot as plt\n",
        "import pandas as pd"
      ]
    },
    {
      "cell_type": "markdown",
      "id": "8184faab",
      "metadata": {
        "id": "8184faab"
      },
      "source": [
        "Consider the following one-dimensional PDE:\n",
        "$$\n",
        "-u_{xx}(x) = f(x)\\quad\\mathrm{ in }\\ \\Omega = (0, \\pi)\n",
        "$$\n",
        "$$\n",
        "u(x) = 0, \\quad\\mathrm{ on }\\ \\partial\\Omega = \\{0, \\pi\\}\n",
        "$$\n",
        "\n",
        "Given the following $4^{th}$ order finite difference approximation of the second order derivative:\n",
        "\n",
        "$$u_{xx}(x_i) = \\frac{-u_{i-2}+16u_{i-1}-30u_i+16u_{i+1}-u_{i+2}}{12h^2}$$\n",
        "\n",
        "Implement a function that given the domain interval, the forcing function, the number of discretization points, the boundary conditions, returns the matrix $A$ and the the right hand side $b$."
      ]
    },
    {
      "cell_type": "code",
      "execution_count": 2,
      "id": "1c562f13",
      "metadata": {
        "id": "1c562f13"
      },
      "outputs": [],
      "source": [
        "def finDif(omega, f, n, bc):\n",
        "    '''\n",
        "    Function to compute the finite different matrix for fourth order difference \n",
        "    approximation of second order derivative. It returns the matrix A and the right\n",
        "    side b.\n",
        "    '''\n",
        "    h = ( omega[1] - omega[0] ) / ( n-1 )  # define the step size\n",
        "\n",
        "    x = np.array([i*h for i in range(n)])  # define the discrete points in the interval\n",
        "    \n",
        "    b = np.array( f(x) )  # define the input function at the chosen points\n",
        "    b[0], b[n-1] = bc  # impose the input boundary conditions\n",
        "\n",
        "    A = ( np.diag([-1 for i in range(0,n-2)], -2) \\\n",
        "        + np.diag([16 for i in range(0,n-1)], -1) \\\n",
        "        + np.diag([-30 for i in range(0,n)]) \\\n",
        "        + np.diag([16 for i in range(0,n-1)], 1) \\\n",
        "        + np.diag([-1 for i in range(0,n-2)], 2) ) * ( - 1 / (12*h**2) )\n",
        "    return A, b"
      ]
    },
    {
      "cell_type": "markdown",
      "id": "c21bb21e",
      "metadata": {
        "id": "c21bb21e"
      },
      "source": [
        "Call the function using:"
      ]
    },
    {
      "cell_type": "code",
      "execution_count": 3,
      "id": "23af8831",
      "metadata": {
        "id": "23af8831"
      },
      "outputs": [],
      "source": [
        "omega = [0,np.pi]\n",
        "f = lambda x : np.sin(x)\n",
        "n=100\n",
        "bc = [0,0]\n",
        "A, b = finDif(omega, f, n, bc) "
      ]
    },
    {
      "cell_type": "markdown",
      "id": "4f8a7c6f",
      "metadata": {
        "id": "4f8a7c6f"
      },
      "source": [
        "Implement two functions that compute the LU and the Cholesky factorization of the system matrix $A$"
      ]
    },
    {
      "cell_type": "markdown",
      "id": "b19724c5",
      "metadata": {},
      "source": [
        "Using the Gauss method to perform the LU decomposition of a matrix A:\n",
        "\n",
        "$$ l_{i,k} = \\frac{ a_{i,k}^{(k)} } { a_{k,k}^{(k)} } $$\n",
        "\n",
        "$$ a_{i,j}^{(k+1)} = a_{i,j}^{(k)} - l_{i,k} * a_{k,j}^{(k)} $$"
      ]
    },
    {
      "cell_type": "code",
      "execution_count": 4,
      "id": "47468a37",
      "metadata": {
        "id": "47468a37"
      },
      "outputs": [],
      "source": [
        "def LU(A, pivot = False):\n",
        "    '''\n",
        "    Function to compute the LU factorization on input matrix A.\n",
        "    It returns the lower and upper triangular matrices L and U,\n",
        "    computed such that A = LU.\n",
        "\n",
        "    If `pivot` is set to `True`, then the partial pivoting technique\n",
        "    is used. Otherwise, no pivoting is applied.\n",
        "    '''\n",
        "    # check conditions\n",
        "    assert A.shape[0] == A.shape[1], \"The matrix is not square\"\n",
        "    assert np.linalg.det(A) != 0, \"The matrix is not non-singular\"\n",
        "\n",
        "    A = np.array(A, dtype=\"float64\")\n",
        "    n = A.shape[0]\n",
        "    L = np.zeros((n,n))\n",
        "\n",
        "    P = np.identity(n) if pivot else None\n",
        "\n",
        "    for k in range(n-1):\n",
        "        if pivot:  # pivoting done only if asked by user\n",
        "            assert( A[k, k] != 0 ), \"Division by zero\"\n",
        "            piv = k + abs(A[k:, k]).argmax()   # looking at best pivot\n",
        "            \n",
        "            # exchange rows and columns\n",
        "            A[[k, piv]] = A[[piv, k]]\n",
        "            L[[k, piv]] = L[[piv, k]]\n",
        "\n",
        "            P_k= np.identity(n)  # inizialization new permutation matrix in step k\n",
        "            P_k[[k, piv]] = P_k[[piv, k]]  # exchanging rows and columns\n",
        "            P = np.dot(P, P_k)  # updating total permutation matrix\n",
        "        \n",
        "        assert( A[k, k] != 0 ), \"Division by zero\"\n",
        "        L[k+1:, k] = A[k+1:, k] / A[k, k]\n",
        "        A[k+1:] -= L[k+1:, k][:, None] * A[k, :]\n",
        "\n",
        "    np.fill_diagonal(L, 1)\n",
        "\n",
        "    if pivot:\n",
        "        return L, A, P\n",
        "\n",
        "    return L, A\n",
        "\n",
        "L, U = LU(A)"
      ]
    },
    {
      "cell_type": "markdown",
      "id": "2c38a8fe",
      "metadata": {},
      "source": [
        "The Cholesky factorization is defined as $ A = U^TU $, with $U$ upper triangular matrix such that:\n",
        "- $ u_{11} = \\sqrt{a_{11}} $\n",
        "- $ u_{ji} = \\frac{1}{u_{jj}} ( a_{ij} - \\sum_{k=1}^{j-1} u_{ki} u_{kj} ) $\n",
        "- $ u_{ii} = \\sqrt{ a_{ii} - \\sum_{k=1}^{i-1} u_{ki}^2 } $"
      ]
    },
    {
      "cell_type": "code",
      "execution_count": 5,
      "id": "193ebfed",
      "metadata": {
        "id": "193ebfed"
      },
      "outputs": [],
      "source": [
        "def cholesky(A):\n",
        "    '''\n",
        "    Function to perform the Cholesky factorization of matrix A.\n",
        "    '''\n",
        "    # check conditions \n",
        "    assert A.shape[0] == A.shape[1], \"The matrix is not square\"\n",
        "    assert np.allclose(A, A.transpose()), \"The matrix is not symmetric\"\n",
        "    assert all(np.linalg.eigvals(A) > 0), \"The matrix not positive definite\"\n",
        "\n",
        "    A = np.array(A, dtype=\"float64\")\n",
        "    U = np.zeros_like(A)\n",
        "    \n",
        "    U[0, 0] = np.sqrt(A[0, 0])\n",
        "    \n",
        "    for i in range(1, A.shape[0]):\n",
        "        for j in range(i):\n",
        "            U[j, i] = 1 / U[j, j] * ( A[i, j] - np.dot( U[:j, i], U[:j, j] ) )  # for j != i\n",
        "        \n",
        "        U[i, i] = np.sqrt( A[i, i] - np.dot( U[:i, i], U[:i, i] ) )  # diagonal elements\n",
        "    return U, U.transpose()\n",
        "\n",
        "HT, H = cholesky(A)"
      ]
    },
    {
      "cell_type": "markdown",
      "id": "41eb8436",
      "metadata": {
        "id": "41eb8436"
      },
      "source": [
        "Implement forward and backward substitution functions to exploit the developed factorization methods to solve the derived linear system of equations."
      ]
    },
    {
      "cell_type": "markdown",
      "id": "fdbfd717",
      "metadata": {},
      "source": [
        "For the **forward substitution** method we want to solve the linear system of the form $ Ly=b $, with $L$ lower triangular matrix:\n",
        "- $ y_i = \\frac{1}{l_{ii}} ( b_i - \\sum_{j=1}^{i-1} l_{ij}y_j ) $ with $ i=2,...,n $"
      ]
    },
    {
      "cell_type": "code",
      "execution_count": 6,
      "id": "019cf0df",
      "metadata": {
        "id": "019cf0df"
      },
      "outputs": [],
      "source": [
        "def L_solve(L, rhs):\n",
        "    '''\n",
        "    Function to solve a system of linear equation for lower triagular \n",
        "    matrix using the forward substitutions algorithm.\n",
        "    '''\n",
        "    assert L.shape[0] == L.shape[1], \"The input matrix is not square\"\n",
        "    assert np.allclose(L, np.tril(L)), \"The matrix is not lower triangular\"\n",
        "    \n",
        "    L = np.array(L, dtype=\"float64\")\n",
        "    rhs = np.array(rhs, dtype=\"float64\")\n",
        "    x = np.zeros_like(rhs, dtype=\"float64\")\n",
        "    \n",
        "    x[0] = rhs[0] / L[0, 0]\n",
        "    for i in range(1, L.shape[0]):  # rows\n",
        "        assert L[i, i] != 0, \"Invalid operation: diagonal element in L equal to 0\"\n",
        "        \n",
        "        x[i] = 1 / L[i, i] * ( rhs[i] - np.dot(L[i, :i], x[:i] ) )\n",
        "\n",
        "    return x"
      ]
    },
    {
      "cell_type": "markdown",
      "id": "0672416c",
      "metadata": {},
      "source": [
        "For the **backward substitution** method we want to solve the linear system of the form $ Ux=y $, with $U$ upper triangular matrix:\n",
        "- $ x_i = \\frac{1}{u_{ii}} ( y_i - \\sum_{j=i+1}^{n} u_{ij} x_j ) $ with $ i=n-1,n-2,...,1 $"
      ]
    },
    {
      "cell_type": "code",
      "execution_count": 7,
      "id": "26ce17c4",
      "metadata": {
        "id": "26ce17c4"
      },
      "outputs": [],
      "source": [
        "def U_solve(U, rhs):\n",
        "    '''\n",
        "    Function to solve a system of linear equation for upper triagular \n",
        "    matrix using the backward substitutions algorithm.\n",
        "    '''\n",
        "    assert U.shape[0] == U.shape[1], \"The input matrix is not square\"\n",
        "    assert np.allclose(U, np.triu(U)), \"The matrix is not upper triangular\"\n",
        "    \n",
        "    U = np.array(U, dtype=\"float64\")\n",
        "    rhs = np.array(rhs, dtype=\"float64\")\n",
        "    x = np.zeros_like(rhs, dtype=\"float64\")\n",
        "    \n",
        "    x[U.shape[0] - 1] = rhs[U.shape[0] - 1] / U[U.shape[0] - 1, U.shape[0] - 1]\n",
        "    for i in range(U.shape[0]-1 , -1, -1):\n",
        "        assert U[i, i] != 0, \"Invalid operation: diagonal element in U equal to 0\"\n",
        "\n",
        "        x[i] = 1 / U[i, i] * ( rhs[i] - np.dot(U[i, i+1:], x[i+1:]) )\n",
        "    return x"
      ]
    },
    {
      "cell_type": "markdown",
      "id": "08ac9ba1",
      "metadata": {
        "id": "08ac9ba1"
      },
      "source": [
        "Solve the derived linear system using the implemented functions.\n",
        "\n",
        "Having the LU factorization, solving $Ax=b$ for $x$ can be reformulated as solving a system of two equations: $Ly=b$ and $Ux=y$."
      ]
    },
    {
      "cell_type": "code",
      "execution_count": 8,
      "id": "7c1de4f3",
      "metadata": {
        "id": "7c1de4f3"
      },
      "outputs": [],
      "source": [
        "def solve_system(A, b, pivot=False):\n",
        "    '''\n",
        "    Function for solving linear system exploiting LU factorization.\n",
        "    '''\n",
        "    assert A.shape[0] == A.shape[1], \"The matrix is not square\"\n",
        "    assert np.linalg.det(A) != 0, \"The matrix is not non-singular\"\n",
        "    \n",
        "    if pivot:\n",
        "        L, U, P = LU(A, pivot=pivot)\n",
        "    else:\n",
        "        L, U = LU(A)\n",
        "        P = np.identity(A.shape[0])\n",
        "\n",
        "    y = L_solve(L, np.matmul(b, P))\n",
        "    x = U_solve(U, y)\n",
        "    \n",
        "    return x"
      ]
    },
    {
      "cell_type": "markdown",
      "id": "10fe957f",
      "metadata": {},
      "source": [
        "Plot the computed solution:"
      ]
    },
    {
      "cell_type": "code",
      "execution_count": 9,
      "id": "fde504f4",
      "metadata": {},
      "outputs": [],
      "source": [
        "def plot_result(omega, x):\n",
        "    x_points = np.linspace(omega[0], omega[1], num=x.shape[0]) #define discretization points\n",
        "\n",
        "    plt.rcParams[\"figure.figsize\"] = (10,8)\n",
        "    plt.plot(x_points, x)\n",
        "    plt.xlabel(\"$\\Omega$\", fontsize=10)\n",
        "    plt.title('Solution of FD problem')\n",
        "    plt.xticks(np.arange(0, 1.1*np.pi, step=(np.pi/4)), ['0','π/4', 'π/2','3π/4','π'])\n",
        "    plt.tight_layout()"
      ]
    },
    {
      "cell_type": "code",
      "execution_count": 10,
      "id": "6e0995d0",
      "metadata": {},
      "outputs": [
        {
          "data": {
            "image/png": "[encoded data removed]",
            "text/plain": [
              "<Figure size 720x576 with 1 Axes>"
            ]
          },
          "metadata": {
            "needs_background": "light"
          },
          "output_type": "display_data"
        }
      ],
      "source": [
        "omega = [0, np.pi]\n",
        "f = lambda x : np.sin(x)\n",
        "n = 100\n",
        "bc = [0,0]\n",
        "\n",
        "A, b = finDif(omega, f, n, bc)  # find matrix A \n",
        "solved_system = solve_system(A,b, pivot=True)  # solve the system\n",
        "plot_result(omega, solved_system)  # plot the solution "
      ]
    },
    {
      "cell_type": "markdown",
      "id": "62cdfe65",
      "metadata": {
        "id": "62cdfe65"
      },
      "source": [
        "Considering the new domain $\\Omega = (0,1)$ and the forcing term $f(x) = x(1-x)$ with B.C. $u(x) = 0$, on $\\partial \\Omega = {0,1}$ produce a plot and a table where you show the decay of the error w.r.t. the number of grid points.\n",
        "(The analytical solution for the above problems is $u_{an} = \\frac{x^4}{12} - \\frac{x^3}{6} + \\frac{x}{12}$)"
      ]
    },
    {
      "cell_type": "code",
      "execution_count": 11,
      "id": "26cc1e38",
      "metadata": {},
      "outputs": [],
      "source": [
        "def solve(omega, f, n, bc):\n",
        "    '''\n",
        "    Function to solve a finite difference problem.\n",
        "    '''\n",
        "    A, b = finDif(omega, f, n, bc)\n",
        "    f_solve = solve_system(A, b, pivot=True)\n",
        "    x = np.linspace(omega[0], omega[1], num=f_solve.shape[0]) # discretization points\n",
        "    return x, f_solve"
      ]
    },
    {
      "cell_type": "code",
      "execution_count": 12,
      "id": "91212afb",
      "metadata": {
        "id": "91212afb"
      },
      "outputs": [],
      "source": [
        "def plot_error(omega, f, bc, f_real):\n",
        "    N = np.arange(50, 1200, step=200)\n",
        "    er = np.zeros(N.shape[0])\n",
        "    i = 0\n",
        "\n",
        "    for n in N:\n",
        "        x, f_solve = solve(omega, f, n, bc)\n",
        "        er[i] = max( abs( f_solve - f_real(x) ) )\n",
        "        i += 1\n",
        "    \n",
        "    plt.plot(N, er, label = \"${\\\\Vert \\\\cdot \\\\Vert}_{\\\\infty}$\")\n",
        "    plt.xlabel(\"Iteration\", fontsize=15)\n",
        "    plt.ylabel(\"Error\", fontsize=15, rotation=0, labelpad=20)\n",
        "    plt.legend()\n",
        "    plt.yscale(\"log\")\n",
        "    plt.title(\"Error vs number of iteartions\", fontsize=18)\n",
        "    plt.grid()\n",
        "\n",
        "    return pd.DataFrame({\"Iteration\":N, \"Error\":er})\n"
      ]
    },
    {
      "cell_type": "code",
      "execution_count": 13,
      "id": "10b4ad2f",
      "metadata": {},
      "outputs": [
        {
          "name": "stderr",
          "output_type": "stream",
          "text": [
            "/home/elena/.local/lib/python3.8/site-packages/numpy/linalg/linalg.py:2158: RuntimeWarning: overflow encountered in det\n",
            "  r = _umath_linalg.det(a, signature=signature)\n"
          ]
        },
        {
          "data": {
            "text/html": [
              "<div>\n",
              "<style scoped>\n",
              "    .dataframe tbody tr th:only-of-type {\n",
              "        vertical-align: middle;\n",
              "    }\n",
              "\n",
              "    .dataframe tbody tr th {\n",
              "        vertical-align: top;\n",
              "    }\n",
              "\n",
              "    .dataframe thead th {\n",
              "        text-align: right;\n",
              "    }\n",
              "</style>\n",
              "<table border=\"1\" class=\"dataframe\">\n",
              "  <thead>\n",
              "    <tr style=\"text-align: right;\">\n",
              "      <th></th>\n",
              "      <th>Iteration</th>\n",
              "      <th>Error</th>\n",
              "    </tr>\n",
              "  </thead>\n",
              "  <tbody>\n",
              "    <tr>\n",
              "      <th>0</th>\n",
              "      <td>50</td>\n",
              "      <td>0.001578</td>\n",
              "    </tr>\n",
              "    <tr>\n",
              "      <th>1</th>\n",
              "      <td>250</td>\n",
              "      <td>0.000311</td>\n",
              "    </tr>\n",
              "    <tr>\n",
              "      <th>2</th>\n",
              "      <td>450</td>\n",
              "      <td>0.000172</td>\n",
              "    </tr>\n",
              "    <tr>\n",
              "      <th>3</th>\n",
              "      <td>650</td>\n",
              "      <td>0.000119</td>\n",
              "    </tr>\n",
              "    <tr>\n",
              "      <th>4</th>\n",
              "      <td>850</td>\n",
              "      <td>0.000091</td>\n",
              "    </tr>\n",
              "    <tr>\n",
              "      <th>5</th>\n",
              "      <td>1050</td>\n",
              "      <td>0.000074</td>\n",
              "    </tr>\n",
              "  </tbody>\n",
              "</table>\n",
              "</div>"
            ],
            "text/plain": [
              "   Iteration     Error\n",
              "0         50  0.001578\n",
              "1        250  0.000311\n",
              "2        450  0.000172\n",
              "3        650  0.000119\n",
              "4        850  0.000091\n",
              "5       1050  0.000074"
            ]
          },
          "execution_count": 13,
          "metadata": {},
          "output_type": "execute_result"
        },
        {
          "data": {
            "image/png": "[encoded data removed]",
            "text/plain": [
              "<Figure size 720x576 with 1 Axes>"
            ]
          },
          "metadata": {
            "needs_background": "light"
          },
          "output_type": "display_data"
        }
      ],
      "source": [
        "omega = [0,1]\n",
        "bc = [0,0]\n",
        "f = lambda x : x*(1-x)\n",
        "f_real = lambda x: np.power(x,4) / 12 - np.power(x,3) / 6 + x / 12\n",
        "error = plot_error(omega, f, bc, f_real)\n",
        "error"
      ]
    },
    {
      "cell_type": "markdown",
      "id": "c8d5002f",
      "metadata": {
        "id": "c8d5002f"
      },
      "source": [
        "Exploit the derived LU factorizations to compute the condition number of the system's matrix $A$ using the original problem formulation."
      ]
    },
    {
      "cell_type": "code",
      "execution_count": 14,
      "id": "db60aab8",
      "metadata": {},
      "outputs": [],
      "source": [
        "def inverse(A):\n",
        "    '''\n",
        "    Function to compute the inverse of a square non singular \n",
        "    matrix using its LU factorization.\n",
        "    '''\n",
        "    A = np.array(A, dtype=\"float64\")\n",
        "    inv_A = np.zeros_like(A)\n",
        "    I = np.identity(A.shape[0])\n",
        "    L, U, P = LU(A, pivot=True)\n",
        "\n",
        "    for k in range(A.shape[0]):\n",
        "        tmp = L_solve(L, np.matmul(I[:, k],P))\n",
        "        inv_A[:, k] = U_solve(U, tmp)\n",
        "    return inv_A"
      ]
    },
    {
      "cell_type": "code",
      "execution_count": 15,
      "id": "c25fc1fe",
      "metadata": {
        "id": "c25fc1fe"
      },
      "outputs": [],
      "source": [
        "def condNumb(A):\n",
        "    A = np.array(A)\n",
        "    A_inv = inverse(A)\n",
        "    condNu = max( sum( np.abs(A), axis=1) ) * max( sum( np.abs(A_inv), axis=1) )\n",
        "    return condNu "
      ]
    },
    {
      "cell_type": "markdown",
      "id": "2728b49a",
      "metadata": {
        "id": "2728b49a"
      },
      "source": [
        "Implement a preconditioned Conjugant Gradient method to solve the original linear system of equations using an iterative method:"
      ]
    },
    {
      "cell_type": "markdown",
      "id": "5d931a30",
      "metadata": {},
      "source": [
        "Preconditioned Conjugate Gradient method:\n",
        "\n",
        "$\\texttt{Step 0:}$ \n",
        "- $ r^{(0)} = b-Ax^{(0)} $\n",
        "- $ z^{(0)} = P^{-1} r^{(0)} $\n",
        "- $ p^{(0)} = z^{(0)} $\n",
        "\n",
        "$\\texttt{Step k:}$ \n",
        "- $ \\alpha_k = \\frac{(p^{(k)})^T r^{(k)}}{(p^{(k)})^T A p^{(k)}} $\n",
        "- $ x^{(k+1)} = x^{(k)} + \\alpha_k p^{(k)} $\n",
        "- $ r^{(k+1)} = r^{(k)} + \\alpha_k A p^{(k)} $\n",
        "- $ Pz^{(k+1)} = r^{(k+1)} $\n",
        "- $ \\beta_k = \\frac{(Ap^{(k)})^T z^{(k+1)}}{(Ap^{(k)})^T p^{(k)}} $\n",
        "- $ p^{(k+1)} = z^{(k+1)} - \\beta_k p^{(k)} $"
      ]
    },
    {
      "cell_type": "code",
      "execution_count": 16,
      "id": "62b83aee",
      "metadata": {
        "id": "62b83aee"
      },
      "outputs": [],
      "source": [
        "def conjugate_gradient(A, b, P=None, nmax=len(A), eps=1e-10):\n",
        "    '''\n",
        "    Function to apply the conjugate gradient method on a symmetric\n",
        "    positive definite matrix A.\n",
        "    '''\n",
        "    # check conditions\n",
        "    assert A.shape(A)[0] == A.shape[1], \"The matrix is not square\"\n",
        "    assert np.allclose( A, A.transpose() ), \"The matrix is not symmetric\"\n",
        "    _, U = LU(A, pivoting=False)\n",
        "    assert all(np.diag(U) > 0), \"The matrix is not positive definite\"\n",
        "\n",
        "    if P is None:\n",
        "        P = np.identity(A.shape[0])  #if not as input, define the preconditioned matrix as the identity\n",
        "\n",
        "    A = np.array(A, dtype=\"float64\")\n",
        "    b = np.array(b, dtype=\"float64\")\n",
        "\n",
        "    x = np.zeros_like(A[0])  # define the variable x_0\n",
        "    r = b - A.dot(x)  # define the variable r_0\n",
        "    z = solve_system(P, r)  # solve the system for z_0\n",
        "    p = z\n",
        "    for k in range(1, nmax):\n",
        "        if np.linalg.norm(r) < eps:\n",
        "            break\n",
        "\n",
        "        alpha = p.dot(r) / A.dot(p).dot(p)  # alpha_k\n",
        "        x += alpha * p  # x_(k+1) = x_k + alpha_k * z_k\n",
        "        r -= alpha * A.dot(p)  #r_(k+1) = r_k - alpha_k * A * z_k\n",
        "        z = solve_system(P, r)  # z_(k+1)\n",
        "        beta = A.dot(p).dot(z) / A.dot(p).dot(p)  # beta_k\n",
        "        p = z - beta * p  # p_(k+1) = z_(k+1) - beta_k * p_k\n",
        "        \n",
        "    return x"
      ]
    },
    {
      "cell_type": "markdown",
      "id": "8a4cfc02",
      "metadata": {
        "id": "8a4cfc02"
      },
      "source": [
        "Consider the following time dependent variation of the PDE starting from the orginal problem formulation:\n",
        "$$\n",
        "u'(t)-u_{xx} = \\alpha(t)f(x)\n",
        "$$\n",
        "\n",
        "for $t\\in [0,T]$, with $\\alpha(t) = \\cos(t)$ and $T = 6\\pi$\n",
        "\n",
        "Use the same finite difference scheme to derive the semi-discrete formulation and solve it using a forward Euler's method."
      ]
    },
    {
      "cell_type": "code",
      "execution_count": 19,
      "id": "3ffe0689",
      "metadata": {
        "id": "3ffe0689"
      },
      "outputs": [],
      "source": [
        "def forward_euler_method(f, alpha, omega, t0, tend, n, bc, Nt):\n",
        "    '''\n",
        "    Implemet forward Euler method to find solution x for the differential equation.\n",
        "    It returns the solution x, the time t and the discretization points.\n",
        "    '''\n",
        "    h = ( tend - t0 ) / Nt  # define the time step h\n",
        "    t = np.linspace(t0, tend, num = Nt+1, dtype=\"float64\")\n",
        "\n",
        "    u = np.zeros( (n, Nt+1) )  # to store the solution\n",
        "\n",
        "    A, b = finDif(omega, f, n, bc)  # find FD solution of the problem\n",
        "    x = np.linspace(omega[0], omega[1], num=b.shape[0])  # define discretization points\n",
        "    u[:, 0] = solve_system(A, b)  # solve linear system for get initial solution at t0\n",
        "\n",
        "    for k in range(Nt):\n",
        "        u_xx = A.dot(u[:, k])  # compute derivative at step before\n",
        "        alpha_0 = alpha( t[k] ) * b  # compute function at step before\n",
        "        u[:,k+1] = u[:, k] - h * ( u_xx + alpha_0)\n",
        "\n",
        "    return u, t, x"
      ]
    },
    {
      "cell_type": "markdown",
      "id": "2feee93e",
      "metadata": {},
      "source": [
        "\n",
        "Plot the time dependent solution solution at $x = \\pi/2$, $x=1$, \n",
        "$x=\\pi$\n"
      ]
    },
    {
      "cell_type": "code",
      "execution_count": 20,
      "id": "4b2dcff8",
      "metadata": {},
      "outputs": [
        {
          "data": {
            "image/png": "[encoded data removed]",
            "text/plain": [
              "<Figure size 720x576 with 1 Axes>"
            ]
          },
          "metadata": {
            "needs_background": "light"
          },
          "output_type": "display_data"
        }
      ],
      "source": [
        "t0 = 0\n",
        "tend = 6 * np.pi\n",
        "Nt = 500000\n",
        "\n",
        "alpha =  lambda t: np.cos(t)\n",
        "\n",
        "f = lambda x : np.sin(x)\n",
        "omega = [0, np.pi]\n",
        "bc = [0,0]\n",
        "n = 100 \n",
        "\n",
        "u, t, x = forward_euler_method(f, alpha, omega, t0, tend, n, bc, Nt)\n",
        "\n",
        "# find right indexes\n",
        "idx_pi_half = round(n / (omega[-1] - omega[0]) * np.pi/2) -1\n",
        "idx_one = round(n/(omega[-1] - omega[0])) - 1\n",
        "idx_pi = round(n/(omega[-1] - omega[0]) * np.pi) - 1\n",
        "\n",
        "plt.rcParams[\"figure.figsize\"] = (10,8)\n",
        "\n",
        "plt.plot(t, u[idx_pi_half,:], label = \"x = π/2\")\n",
        "plt.plot(t, u[idx_one,:], label = \"x = 1\")\n",
        "plt.plot(t, u[idx_pi,:], label = \"x = π\")\n",
        "\n",
        "plt.xlabel(\"Time  t\")\n",
        "plt.ylabel(\"Solution  u(x, t)\")\n",
        "plt.legend()\n",
        "plt.title(\"Time dependent solution of PDE\")\n",
        "plt.tight_layout()"
      ]
    },
    {
      "cell_type": "markdown",
      "id": "36936121",
      "metadata": {
        "id": "36936121"
      },
      "source": [
        "Given the original $Au = b$ system, implement an algorithm to compute the eigenvalues and eigenvectors of the matrix $A$. Exploit the computed LU factorization"
      ]
    },
    {
      "cell_type": "code",
      "execution_count": 21,
      "id": "1878c854",
      "metadata": {},
      "outputs": [],
      "source": [
        "def inverse_power_method(A, mu, eps=1e-10, max_iter=1000):\n",
        "    '''\n",
        "    Given the system matrix A, the function found the eigenvalue close to\n",
        "    number mu by inverse power method.\n",
        "    '''\n",
        "    x0 = np.random.rand(A.shape[0])\n",
        "    y = x0 / np.linalg.norm( x0, 2 )\n",
        "\n",
        "    Amu = A - mu * np.eye(A.shape[0])\n",
        "    (L,U) = LU(Amu)\n",
        "\n",
        "    err = eps + 1\n",
        "    it = 0\n",
        "    l = 0\n",
        "\n",
        "    while err > eps and it < max_iter:\n",
        "        q = L_solve( L, y )\n",
        "        x = U_solve( U, q )\n",
        "\n",
        "        y = x / np.linalg.norm( x, 2 )\n",
        "        z = A.dot(y)\n",
        "\n",
        "        l = y.T.dot(z)\n",
        "        err = np.linalg.norm(z - l*y,2)\n",
        "        it += 1\n",
        "\n",
        "    return l,y"
      ]
    },
    {
      "cell_type": "code",
      "execution_count": 22,
      "id": "622aadf4",
      "metadata": {
        "id": "622aadf4"
      },
      "outputs": [],
      "source": [
        "def eigenvalues(A, max_iter=1000):\n",
        "    n = A.shape[0]\n",
        "    evals = np.zeros(n)\n",
        "    (L, U) = LU(A)  # find LU factorization\n",
        "\n",
        "    for _ in range(max_iter):\n",
        "        Anew = U.dot(L)  # obtain new A as product of U and L\n",
        "        (L, U) = LU(Anew)  # factorize again the obtained A\n",
        "\n",
        "    evals = np.sort(np.diag(Anew))  # extract the evalue from the diagonal \n",
        "    return evals"
      ]
    },
    {
      "cell_type": "code",
      "execution_count": 23,
      "id": "132c5e46",
      "metadata": {},
      "outputs": [],
      "source": [
        "def eigenvectors(A, evals, eps=1e-5):\n",
        "    n = A.shape[0]\n",
        "    evectors = np.zeros_like(A)\n",
        "\n",
        "    for idx in range(n):    # for each of the evalue\n",
        "        _, eve = inverse_power_method( A, evals[idx] + eps )  # apply inverse power method to get evector\n",
        "        evectors[:,idx] = eve\n",
        "\n",
        "    return evectors"
      ]
    },
    {
      "cell_type": "markdown",
      "id": "85d5f64e",
      "metadata": {
        "id": "85d5f64e"
      },
      "source": [
        "Compute the inverse of the matrix A exploiting the derived LU factorization"
      ]
    },
    {
      "cell_type": "code",
      "execution_count": 24,
      "id": "6ad7199f",
      "metadata": {
        "id": "6ad7199f"
      },
      "outputs": [],
      "source": [
        "def inverse(A):\n",
        "    A = np.array(A, dtype=\"float64\")\n",
        "    inv_A = np.zeros_like(A)\n",
        "    I = np.identity(A.shape[0])\n",
        "    L, U, P = LU(A, pivot=True)\n",
        "    \n",
        "    for k in range(A.shape[0]):\n",
        "        tmp = L_solve(L, np.matmul(I[:, k],P))\n",
        "        inv_A[:, k] = U_solve(U, tmp)\n",
        "    return inv_A"
      ]
    },
    {
      "cell_type": "markdown",
      "id": "cb22566e",
      "metadata": {
        "id": "cb22566e"
      },
      "source": [
        "Consider the following Cauchy problem\n",
        "$$\n",
        "\\begin{cases}\n",
        "y'= -ty^2 \\quad 0\\le t \\le 2\\\\\n",
        "y(0) = 1\n",
        "\\end{cases}\n",
        "$$\n",
        "Implement a Backward Euler's method in a suitable function and solve the resulting non-linear equation using a Newton's method."
      ]
    },
    {
      "cell_type": "code",
      "execution_count": 25,
      "id": "3184e358",
      "metadata": {
        "id": "3184e358"
      },
      "outputs": [],
      "source": [
        "def newton_method(f, df, x, eps=1e-10, max_iter=1000):\n",
        "    '''\n",
        "    Function to implement the Newton method to searh for the zeros of a function f.\n",
        "    '''\n",
        "    for _ in range(max_iter):\n",
        "        x = x - f(x) / df(x)\n",
        "        if( abs(f(x)) < eps ):\n",
        "            return x\n",
        "    return x"
      ]
    },
    {
      "cell_type": "code",
      "execution_count": 26,
      "id": "d905a9a2",
      "metadata": {},
      "outputs": [],
      "source": [
        "def backward_euler_method(y0, t0, tend, N=100):\n",
        "    \"\"\"\n",
        "    Function to solve ordinary differential equation using Backward Euler and \n",
        "    employing the Newton method.\n",
        "    \"\"\"\n",
        "    h = ( tend - t0 ) / N\n",
        "    t = np.linspace(t0, tend, num=N+1, dtype=\"float64\")\n",
        "    y = np.zeros_like(t)\n",
        "    y[0] = y0\n",
        "    \n",
        "    for k in range(1, N+1):\n",
        "        f = lambda x : x - y[k-1] + h*t[k] * np.power(x, 2)\n",
        "        df = lambda x : 1 + 2*h*t[k]*x\n",
        "        y[k] = newton_method(f, df, y[k-1])\n",
        "\n",
        "    return t, y"
      ]
    },
    {
      "cell_type": "code",
      "execution_count": 27,
      "id": "5ff5db2e",
      "metadata": {},
      "outputs": [
        {
          "data": {
            "image/png": "[encoded data removed]",
            "text/plain": [
              "<Figure size 720x576 with 1 Axes>"
            ]
          },
          "metadata": {
            "needs_background": "light"
          },
          "output_type": "display_data"
        }
      ],
      "source": [
        "y0=1\n",
        "t0 = 0\n",
        "tend = 2\n",
        "t, y = backward_euler_method(y0, t0, tend, N=50)\n",
        "exact = lambda x: 2 / ( np.power(x, 2) + 2 )\n",
        "\n",
        "plt.plot(t, y, 'o', label = 'numerical')\n",
        "plt.plot(t, exact(t), label = 'exact')\n",
        "plt.legend()\n",
        "plt.xlabel(\"t\", fontsize=12)\n",
        "plt.ylabel(\"y(t)\", fontsize=12, rotation=0, labelpad=20)\n",
        "plt.show()"
      ]
    },
    {
      "cell_type": "markdown",
      "id": "8b60cdd2",
      "metadata": {},
      "source": [
        "To visualize the error"
      ]
    },
    {
      "cell_type": "code",
      "execution_count": 28,
      "id": "208f4d9f",
      "metadata": {},
      "outputs": [
        {
          "data": {
            "image/png": "[encoded data removed]",
            "text/plain": [
              "<Figure size 720x576 with 1 Axes>"
            ]
          },
          "metadata": {
            "needs_background": "light"
          },
          "output_type": "display_data"
        }
      ],
      "source": [
        "y0 = 1\n",
        "t0 = 0\n",
        "tend = 2\n",
        "N = [i for i in range(10, 1000, 10)]\n",
        "err = []\n",
        "exact = lambda x: 2 / ( np.power(x, 2) + 2 )\n",
        "for n in N:\n",
        "    t, y = backward_euler_method(y0, t0, tend, n)\n",
        "    err.append(max(abs(exact(t) - y)))\n",
        "\n",
        "plt.plot(N, err)\n",
        "plt.xlabel(\"Number of nodes\", fontsize=15)\n",
        "plt.ylabel(\"Error\", fontsize=15, rotation=0, labelpad=20)\n",
        "plt.yscale('log')\n",
        "plt.show()"
      ]
    }
  ],
  "metadata": {
    "colab": {
      "name": "FinalProject-2021-2022.ipynb",
      "provenance": []
    },
    "kernelspec": {
      "display_name": "Python 3.8.10 64-bit",
      "language": "python",
      "name": "python3"
    },
    "language_info": {
      "codemirror_mode": {
        "name": "ipython",
        "version": 3
      },
      "file_extension": ".py",
      "mimetype": "text/x-python",
      "name": "python",
      "nbconvert_exporter": "python",
      "pygments_lexer": "ipython3",
      "version": "3.8.10"
    },
    "vscode": {
      "interpreter": {
        "hash": "31f2aee4e71d21fbe5cf8b01ff0e069b9275f58929596ceb00d14d90e3e16cd6"
      }
    }
  },
  "nbformat": 4,
  "nbformat_minor": 5
}
